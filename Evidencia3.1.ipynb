{
  "nbformat": 4,
  "nbformat_minor": 0,
  "metadata": {
    "colab": {
      "provenance": []
    },
    "kernelspec": {
      "name": "python3",
      "display_name": "Python 3"
    },
    "language_info": {
      "name": "python"
    }
  },
  "cells": [
    {
      "cell_type": "code",
      "execution_count": null,
      "metadata": {
        "id": "FCtdeWqvjehQ"
      },
      "outputs": [],
      "source": [
        "import pickle\n",
        "\n",
        "# Definir una clase simple para representar un objeto\n",
        "class MiObjeto:\n",
        "    def __init__(self, nombre, edad):\n",
        "        self.nombre = nombre\n",
        "        self.edad = edad\n",
        "\n",
        "# Función para serializar y almacenar el objeto en un archivo binario\n",
        "def serializar_objeto(objeto, nombre_archivo):\n",
        "    with open(nombre_archivo, 'wb') as archivo:\n",
        "        pickle.dump(objeto, archivo)\n",
        "    print(f\"Objeto serializado y almacenado en {nombre_archivo}\")\n",
        "\n",
        "# Función para cargar y deserializar el objeto desde el archivo binario\n",
        "def deserializar_objeto(nombre_archivo):\n",
        "    with open(nombre_archivo, 'rb') as archivo:\n",
        "        objeto_recuperado = pickle.load(archivo)\n",
        "    return objeto_recuperado\n",
        "\n",
        "# Crear un objeto\n",
        "mi_objeto = MiObjeto(nombre=\"Juan\", edad=25)\n",
        "\n",
        "# Serializar y almacenar el objeto en un archivo pickle\n",
        "nombre_archivo_pickle = \"mi_objeto.pickle\"\n",
        "serializar_objeto(mi_objeto, nombre_archivo_pickle)\n",
        "\n",
        "# Deserializar y recuperar el objeto desde el archivo pickle\n",
        "objeto_recuperado = deserializar_objeto(nombre_archivo_pickle)\n",
        "\n",
        "# Mostrar el objeto original y el objeto recuperado\n",
        "print(\"\\nObjeto original:\")\n",
        "print(f\"Nombre: {mi_objeto.nombre}, Edad: {mi_objeto.edad}\")\n",
        "\n",
        "print(\"\\nObjeto recuperado:\")\n",
        "print(f\"Nombre: {objeto_recuperado.nombre}, Edad: {objeto_recuperado.edad}\")"
      ]
    }
  ]
}